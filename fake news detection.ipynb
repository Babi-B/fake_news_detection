{
 "cells": [
  {
   "cell_type": "code",
   "execution_count": null,
   "id": "8bc28a57",
   "metadata": {},
   "outputs": [],
   "source": [
    "import pandas as pd\n",
    "import numpy as np\n",
    "import seaborn as sns\n",
    "import matplotlib.pyplot as plt\n",
    "from sklearn.model_selection import train_test_split\n",
    "from sklearn.metrics import accuracy_score\n",
    "from sklearn.metrics import classification_report\n",
    "import re\n",
    "import string"
   ]
  },
  {
   "cell_type": "code",
   "execution_count": null,
   "id": "79bc5915",
   "metadata": {},
   "outputs": [],
   "source": [
    "fake_news = pd.read_csv('Fake.csv')\n",
    "true_news = pd.read_csv('True.csv')"
   ]
  },
  {
   "cell_type": "code",
   "execution_count": null,
   "id": "04907094",
   "metadata": {},
   "outputs": [],
   "source": [
    "true_news.head(2)"
   ]
  },
  {
   "cell_type": "code",
   "execution_count": null,
   "id": "56969070",
   "metadata": {},
   "outputs": [],
   "source": [
    "fake_news.head(2)"
   ]
  },
  {
   "cell_type": "code",
   "execution_count": null,
   "id": "65d2c219",
   "metadata": {},
   "outputs": [],
   "source": [
    "fake_news['class'] = 0\n",
    "true_news['class'] = 1"
   ]
  },
  {
   "cell_type": "code",
   "execution_count": null,
   "id": "eeeb9949",
   "metadata": {},
   "outputs": [],
   "source": [
    "fake_news.shape,true_news.shape"
   ]
  },
  {
   "cell_type": "code",
   "execution_count": null,
   "id": "2375b51a",
   "metadata": {},
   "outputs": [],
   "source": [
    "# Create a test dataframe with the last 10 rows of each dataset\n",
    "# and drop the 10 columns from the original dataset\n",
    "\n",
    "fake_news_manual_testing = fake_news.tail(10)\n",
    "\n",
    "for i in range (23480, 23470, -1):\n",
    "    fake_news.drop([i], axis=0, inplace = True)\n",
    "    \n",
    "true_news_manual_testing = true_news.tail(10)\n",
    "\n",
    "for i in range (21416, 21406, -1):\n",
    "    true_news.drop([i], axis=0, inplace = True)"
   ]
  },
  {
   "cell_type": "code",
   "execution_count": null,
   "id": "0f6aef93",
   "metadata": {},
   "outputs": [],
   "source": [
    "true_news_manual_testing.head(1)"
   ]
  },
  {
   "cell_type": "code",
   "execution_count": null,
   "id": "5c1edb2d",
   "metadata": {},
   "outputs": [],
   "source": [
    "news_merge = pd.concat([fake_news, true_news], axis=0)\n",
    "news_merge.head(2)"
   ]
  },
  {
   "cell_type": "code",
   "execution_count": null,
   "id": "f701c048",
   "metadata": {
    "scrolled": true
   },
   "outputs": [],
   "source": [
    "# drop unnecessary columns\n",
    "news = news_merge.drop(['title','subject','date'], axis=1)\n",
    "news.head()"
   ]
  },
  {
   "cell_type": "code",
   "execution_count": null,
   "id": "a1134300",
   "metadata": {},
   "outputs": [],
   "source": [
    "# Give me the number of null values\n",
    "news.isnull().sum()"
   ]
  },
  {
   "cell_type": "code",
   "execution_count": null,
   "id": "7987cada",
   "metadata": {},
   "outputs": [],
   "source": [
    "# Random shuffling of the data\n",
    "news = news.sample(frac=1)\n",
    "news.head()"
   ]
  },
  {
   "cell_type": "code",
   "execution_count": null,
   "id": "b6a878f7",
   "metadata": {},
   "outputs": [],
   "source": [
    "news.reset_index(inplace=True)\n",
    "news.drop(['index'], axis=1, inplace=True)\n",
    "news.head()"
   ]
  },
  {
   "cell_type": "code",
   "execution_count": null,
   "id": "36376943",
   "metadata": {},
   "outputs": [],
   "source": [
    "# Function to process the text\n",
    "\n",
    "def textprocessor(text):\n",
    "    text = text.lower()\n",
    "    text = re.sub('\\[.*?\\]', '', text)\n",
    "    text = re.sub('\\\\W', \" \", text)\n",
    "    text = re.sub(\"https?://\\S+|www\\.S+\", \"\",text)\n",
    "    text = re.sub(\".*?>+\", \"\", text)\n",
    "    text = re.sub(\"[%s]\" % re.escape(string.punctuation), \"\", text)\n",
    "    text = re.sub(\"\\n\", \"\", text)\n",
    "    text = re.sub(\"\\w*\\d\\w*\", \"\", text)\n",
    "    return text"
   ]
  },
  {
   "cell_type": "code",
   "execution_count": null,
   "id": "9b8489ae",
   "metadata": {},
   "outputs": [],
   "source": [
    "news['text'] = news['text'].apply(textprocessor)"
   ]
  },
  {
   "cell_type": "code",
   "execution_count": null,
   "id": "ddde58b2",
   "metadata": {},
   "outputs": [],
   "source": [
    "x = news['text']\n",
    "y = news['class']"
   ]
  },
  {
   "cell_type": "code",
   "execution_count": null,
   "id": "69bee174",
   "metadata": {},
   "outputs": [],
   "source": [
    "X_train, X_test, y_train, y_test = train_test_split(x,y,text_size=0.25)"
   ]
  },
  {
   "cell_type": "code",
   "execution_count": null,
   "id": "1df69893",
   "metadata": {},
   "outputs": [],
   "source": [
    "from sklean.feature_extraction.text import TfidVectorizer"
   ]
  },
  {
   "cell_type": "code",
   "execution_count": null,
   "id": "5a434d41",
   "metadata": {},
   "outputs": [],
   "source": [
    "vectorization = TfidVectorizer()\n",
    "xv_train = verization.fit_transform(X_train)\n",
    "xv_test = verization.fit_transform(X_test)"
   ]
  },
  {
   "cell_type": "code",
   "execution_count": null,
   "id": "5f95bb8f",
   "metadata": {},
   "outputs": [],
   "source": [
    "from sklearn.linear_model import LogisticRegression"
   ]
  },
  {
   "cell_type": "code",
   "execution_count": null,
   "id": "63c60dba",
   "metadata": {},
   "outputs": [],
   "source": [
    "LR = LogisticRegression()\n",
    "LR.fit(xv_train, y_train)"
   ]
  },
  {
   "cell_type": "code",
   "execution_count": null,
   "id": "ed966445",
   "metadata": {},
   "outputs": [],
   "source": [
    "pred = LR.predict(xv_test)"
   ]
  },
  {
   "cell_type": "code",
   "execution_count": null,
   "id": "8a7e7501",
   "metadata": {},
   "outputs": [],
   "source": [
    "score = LR.score(sv_test, y_test)"
   ]
  },
  {
   "cell_type": "code",
   "execution_count": null,
   "id": "95f64e01",
   "metadata": {},
   "outputs": [],
   "source": [
    "print(classification_report(y_test,pred))"
   ]
  },
  {
   "cell_type": "code",
   "execution_count": null,
   "id": "f6cd706f",
   "metadata": {},
   "outputs": [],
   "source": []
  }
 ],
 "metadata": {
  "kernelspec": {
   "display_name": "Python 3 (ipykernel)",
   "language": "python",
   "name": "python3"
  },
  "language_info": {
   "codemirror_mode": {
    "name": "ipython",
    "version": 3
   },
   "file_extension": ".py",
   "mimetype": "text/x-python",
   "name": "python",
   "nbconvert_exporter": "python",
   "pygments_lexer": "ipython3",
   "version": "3.11.5"
  }
 },
 "nbformat": 4,
 "nbformat_minor": 5
}
